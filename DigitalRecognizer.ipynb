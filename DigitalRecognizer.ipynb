{
  "nbformat": 4,
  "nbformat_minor": 0,
  "metadata": {
    "colab": {
      "name": "DigitalRecognizer",
      "provenance": [],
      "collapsed_sections": [],
      "authorship_tag": "ABX9TyOeKs3Ga5DcevQA7veGYNJd",
      "include_colab_link": true
    },
    "kernelspec": {
      "name": "python3",
      "display_name": "Python 3"
    }
  },
  "cells": [
    {
      "cell_type": "markdown",
      "metadata": {
        "id": "view-in-github",
        "colab_type": "text"
      },
      "source": [
        "<a href=\"https://colab.research.google.com/github/wangjb/MLprojs/blob/master/DigitalRecognizer.ipynb\" target=\"_parent\"><img src=\"https://colab.research.google.com/assets/colab-badge.svg\" alt=\"Open In Colab\"/></a>"
      ]
    },
    {
      "cell_type": "markdown",
      "metadata": {
        "id": "FOYBE9EAHdO1",
        "colab_type": "text"
      },
      "source": [
        "### Acces to data folder in my google drive"
      ]
    },
    {
      "cell_type": "code",
      "metadata": {
        "id": "KN1Ch3G6HK-G",
        "colab_type": "code",
        "outputId": "d2e44020-2570-48ff-93c5-6d2f63c12bf0",
        "colab": {
          "base_uri": "https://localhost:8080/",
          "height": 146
        }
      },
      "source": [
        "from google.colab import drive\n",
        "import os\n",
        "drive.mount('/content/gdrive')\n",
        "os.chdir(\"/content/gdrive/My Drive/kaggle/DigitalRecognizer\")\n",
        "os.getcwd()"
      ],
      "execution_count": 2,
      "outputs": [
        {
          "output_type": "stream",
          "text": [
            "Go to this URL in a browser: https://accounts.google.com/o/oauth2/auth?client_id=947318989803-6bn6qk8qdgf4n4g3pfee6491hc0brc4i.apps.googleusercontent.com&redirect_uri=urn%3aietf%3awg%3aoauth%3a2.0%3aoob&response_type=code&scope=email%20https%3a%2f%2fwww.googleapis.com%2fauth%2fdocs.test%20https%3a%2f%2fwww.googleapis.com%2fauth%2fdrive%20https%3a%2f%2fwww.googleapis.com%2fauth%2fdrive.photos.readonly%20https%3a%2f%2fwww.googleapis.com%2fauth%2fpeopleapi.readonly\n",
            "\n",
            "Enter your authorization code:\n",
            "··········\n",
            "Mounted at /content/gdrive\n"
          ],
          "name": "stdout"
        },
        {
          "output_type": "execute_result",
          "data": {
            "text/plain": [
              "'/content/gdrive/My Drive/kaggle/DigitalRecognizer'"
            ]
          },
          "metadata": {
            "tags": []
          },
          "execution_count": 2
        }
      ]
    },
    {
      "cell_type": "markdown",
      "metadata": {
        "id": "DAr30JtGY1mI",
        "colab_type": "text"
      },
      "source": [
        "#### Check filename of the datum"
      ]
    },
    {
      "cell_type": "code",
      "metadata": {
        "id": "DNB-x90rX5T2",
        "colab_type": "code",
        "colab": {
          "base_uri": "https://localhost:8080/",
          "height": 35
        },
        "outputId": "29eca48e-de6d-40df-e721-2e697ba4fe51"
      },
      "source": [
        "!ls"
      ],
      "execution_count": 3,
      "outputs": [
        {
          "output_type": "stream",
          "text": [
            "test.csv.zip  train.csv.zip\n"
          ],
          "name": "stdout"
        }
      ]
    },
    {
      "cell_type": "markdown",
      "metadata": {
        "id": "7bcZ0qo1Y-yW",
        "colab_type": "text"
      },
      "source": [
        "#### Read train and test data"
      ]
    },
    {
      "cell_type": "code",
      "metadata": {
        "id": "rX_uwIJLP7GV",
        "colab_type": "code",
        "colab": {}
      },
      "source": [
        "from zipfile import ZipFile\n",
        "import pandas as pd\n",
        "import io\n",
        "\n",
        "zf = ZipFile('train.csv.zip')\n",
        "data = zf.read('train.csv')\n",
        "traindf = pd.read_csv(io.BytesIO(data))\n",
        "\n",
        "zf = ZipFile('test.csv.zip')\n",
        "data = zf.read('test.csv')\n",
        "testdf = pd.read_csv(io.BytesIO(data))"
      ],
      "execution_count": 0,
      "outputs": []
    },
    {
      "cell_type": "markdown",
      "metadata": {
        "id": "6SiSMw2AZOhH",
        "colab_type": "text"
      },
      "source": [
        "#### Split the train data into train set and validation set"
      ]
    },
    {
      "cell_type": "code",
      "metadata": {
        "id": "9pe9qaAegvlq",
        "colab_type": "code",
        "colab": {
          "base_uri": "https://localhost:8080/",
          "height": 320
        },
        "outputId": "a0acb453-efd1-4e01-bdd3-69bae394f4c6"
      },
      "source": [
        "import matplotlib.pyplot as plt\n",
        "import numpy as np\n",
        "from sklearn.model_selection import train_test_split\n",
        "\n",
        "train_set, valid_set = train_test_split(traindf, test_size=0.2, random_state=42)\n",
        "\n",
        "train_set_labels = train_set['label'].copy()\n",
        "train_set = train_set.drop('label', axis=1)\n",
        "train_set = train_set.values.reshape(train_set.shape[0],28,28)\n",
        "\n",
        "valid_set_labels = valid_set['label'].copy()\n",
        "valid_set = valid_set.drop('label', axis=1)\n",
        "valid_set = valid_set.values.reshape(valid_set.shape[0],28,28)\n",
        "\n",
        "caseimg = train_set[100]\n",
        "caseimg_label = train_set_labels.iloc[100] \n",
        "print(\"Label of the case image is\",caseimg_label)\n",
        "plt.imshow(caseimg)\n",
        "\n",
        "train_set = np.expand_dims(train_set, -1)\n",
        "valid_set = np.expand_dims(valid_set, -1)\n",
        "print(train_set.shape)\n",
        "train_set_labels = tf.keras.utils.to_categorical(train_set_labels, 10)\n",
        "valid_set_labels = tf.keras.utils.to_categorical(valid_set_labels, 10)\n",
        "print(train_set_labels.shape)"
      ],
      "execution_count": 96,
      "outputs": [
        {
          "output_type": "stream",
          "text": [
            "Label of the case image is 2\n",
            "(33600, 28, 28, 1)\n",
            "(33600, 10)\n"
          ],
          "name": "stdout"
        },
        {
          "output_type": "display_data",
          "data": {
            "image/png": "[encoded data removed]",
            "text/plain": [
              "<Figure size 432x288 with 1 Axes>"
            ]
          },
          "metadata": {
            "tags": [],
            "needs_background": "light"
          }
        }
      ]
    },
    {
      "cell_type": "markdown",
      "metadata": {
        "id": "VU6qvtmCkhXr",
        "colab_type": "text"
      },
      "source": [
        "Prepare and Explore the test data"
      ]
    },
    {
      "cell_type": "code",
      "metadata": {
        "id": "XFKWNmVEkdOU",
        "colab_type": "code",
        "colab": {
          "base_uri": "https://localhost:8080/",
          "height": 283
        },
        "outputId": "1338fff3-8f3c-4a7e-a51a-2f9d17124ae3"
      },
      "source": [
        "test_set = testdf.values.reshape(testdf.shape[0],28,28)\n",
        "caseimg = test_set[50]\n",
        "plt.imshow(caseimg)\n",
        "print(test_set.shape)"
      ],
      "execution_count": 86,
      "outputs": [
        {
          "output_type": "stream",
          "text": [
            "(28000, 28, 28)\n"
          ],
          "name": "stdout"
        },
        {
          "output_type": "display_data",
          "data": {
            "image/png": "[encoded data removed]",
            "text/plain": [
              "<Figure size 432x288 with 1 Axes>"
            ]
          },
          "metadata": {
            "tags": [],
            "needs_background": "light"
          }
        }
      ]
    },
    {
      "cell_type": "markdown",
      "metadata": {
        "id": "bgVhb9M4iyF7",
        "colab_type": "text"
      },
      "source": [
        "#### Setup model environment"
      ]
    },
    {
      "cell_type": "code",
      "metadata": {
        "id": "Y6nuZcbfREwQ",
        "colab_type": "code",
        "colab": {}
      },
      "source": [
        "import tensorflow as tf"
      ],
      "execution_count": 0,
      "outputs": []
    },
    {
      "cell_type": "markdown",
      "metadata": {
        "id": "V4ZvFmm7oqwe",
        "colab_type": "text"
      },
      "source": [
        "#### Setup model"
      ]
    },
    {
      "cell_type": "code",
      "metadata": {
        "id": "vsZDvyjRRoT6",
        "colab_type": "code",
        "outputId": "15af753a-6177-4f4b-ea32-20d80d27ba73",
        "colab": {
          "base_uri": "https://localhost:8080/",
          "height": 308
        }
      },
      "source": [
        "BATCH_SIZE = 128\n",
        "EPOCHS = 10\n",
        "\n",
        "model = tf.keras.Sequential(\n",
        "    [\n",
        "     tf.keras.Input(shape=(28,28,1)),\n",
        "     tf.keras.layers.Conv2D(kernel_size=3, filters=3, activation='relu', padding='same'),\n",
        "     tf.keras.layers.Flatten(),\n",
        "     tf.keras.layers.Dense(200, activation='relu'),\n",
        "     tf.keras.layers.Dense(10, activation='softmax')\n",
        "    ])\n",
        "\n",
        "model.compile(optimizer=tf.keras.optimizers.Adam(lr=0.01),\n",
        "              loss='categorical_crossentropy',\n",
        "              metrics=['accuracy'])\n",
        "\n",
        "model.summary()\n",
        "\n"
      ],
      "execution_count": 87,
      "outputs": [
        {
          "output_type": "stream",
          "text": [
            "Model: \"sequential_7\"\n",
            "_________________________________________________________________\n",
            "Layer (type)                 Output Shape              Param #   \n",
            "=================================================================\n",
            "conv2d_7 (Conv2D)            (None, 28, 28, 3)         30        \n",
            "_________________________________________________________________\n",
            "flatten_7 (Flatten)          (None, 2352)              0         \n",
            "_________________________________________________________________\n",
            "dense_14 (Dense)             (None, 200)               470600    \n",
            "_________________________________________________________________\n",
            "dense_15 (Dense)             (None, 10)                2010      \n",
            "=================================================================\n",
            "Total params: 472,640\n",
            "Trainable params: 472,640\n",
            "Non-trainable params: 0\n",
            "_________________________________________________________________\n"
          ],
          "name": "stdout"
        }
      ]
    },
    {
      "cell_type": "markdown",
      "metadata": {
        "id": "20X7OCchq0wo",
        "colab_type": "text"
      },
      "source": [
        "#### Learning Rate Schedule"
      ]
    },
    {
      "cell_type": "code",
      "metadata": {
        "id": "rv734MlSq0B4",
        "colab_type": "code",
        "colab": {}
      },
      "source": [
        "import math\n",
        "def lr_decay(epoch):\n",
        "  return 0.01 * math.pow(0.6, epoch)\n",
        "\n",
        "lr_decay_callback = tf.keras.callbacks.LearningRateScheduler(lr_decay, verbose=True)"
      ],
      "execution_count": 0,
      "outputs": []
    },
    {
      "cell_type": "markdown",
      "metadata": {
        "id": "IlX2O9lesgKp",
        "colab_type": "text"
      },
      "source": [
        "#### Train the model "
      ]
    },
    {
      "cell_type": "code",
      "metadata": {
        "id": "p3OxtJ8MSIII",
        "colab_type": "code",
        "outputId": "e29cbfc8-1834-457c-f5c5-0632394ca1c7",
        "colab": {
          "base_uri": "https://localhost:8080/",
          "height": 437
        }
      },
      "source": [
        "steps_per_epoch = train_set.shape[0]/BATCH_SIZE\n",
        "print(\"Steps per epoch: \", steps_per_epoch)\n",
        "\n",
        "model.fit(train_set, train_set_labels, batch_size=BATCH_SIZE, epochs=EPOCHS, validation_split=0.1)"
      ],
      "execution_count": 91,
      "outputs": [
        {
          "output_type": "stream",
          "text": [
            "Steps per epoch:  262.5\n",
            "Epoch 1/10\n",
            "237/237 [==============================] - 9s 37ms/step - loss: 0.1137 - accuracy: 0.9668 - val_loss: 0.1856 - val_accuracy: 0.9533\n",
            "Epoch 2/10\n",
            "237/237 [==============================] - 9s 36ms/step - loss: 0.0680 - accuracy: 0.9789 - val_loss: 0.2173 - val_accuracy: 0.9494\n",
            "Epoch 3/10\n",
            "237/237 [==============================] - 9s 36ms/step - loss: 0.0426 - accuracy: 0.9861 - val_loss: 0.2366 - val_accuracy: 0.9512\n",
            "Epoch 4/10\n",
            "237/237 [==============================] - 9s 36ms/step - loss: 0.0392 - accuracy: 0.9873 - val_loss: 0.2759 - val_accuracy: 0.9467\n",
            "Epoch 5/10\n",
            "237/237 [==============================] - 9s 36ms/step - loss: 0.0576 - accuracy: 0.9832 - val_loss: 0.3442 - val_accuracy: 0.9354\n",
            "Epoch 6/10\n",
            "237/237 [==============================] - 9s 36ms/step - loss: 0.0856 - accuracy: 0.9773 - val_loss: 0.3593 - val_accuracy: 0.9381\n",
            "Epoch 7/10\n",
            "237/237 [==============================] - 9s 36ms/step - loss: 0.0875 - accuracy: 0.9755 - val_loss: 0.3803 - val_accuracy: 0.9390\n",
            "Epoch 8/10\n",
            "237/237 [==============================] - 9s 36ms/step - loss: 0.0733 - accuracy: 0.9795 - val_loss: 0.3797 - val_accuracy: 0.9381\n",
            "Epoch 9/10\n",
            "237/237 [==============================] - 9s 36ms/step - loss: 0.0687 - accuracy: 0.9802 - val_loss: 0.5005 - val_accuracy: 0.9423\n",
            "Epoch 10/10\n",
            "237/237 [==============================] - 9s 36ms/step - loss: 0.0519 - accuracy: 0.9860 - val_loss: 0.4119 - val_accuracy: 0.9372\n"
          ],
          "name": "stdout"
        },
        {
          "output_type": "execute_result",
          "data": {
            "text/plain": [
              "<tensorflow.python.keras.callbacks.History at 0x7fe3c4783710>"
            ]
          },
          "metadata": {
            "tags": []
          },
          "execution_count": 91
        }
      ]
    },
    {
      "cell_type": "markdown",
      "metadata": {
        "id": "IHtGgxFmYngN",
        "colab_type": "text"
      },
      "source": [
        "#### Evaluate the trained model"
      ]
    },
    {
      "cell_type": "code",
      "metadata": {
        "id": "qaFusxAdYukX",
        "colab_type": "code",
        "colab": {
          "base_uri": "https://localhost:8080/",
          "height": 53
        },
        "outputId": "6d4af3cb-83c4-42b2-9468-e31e55df2bb8"
      },
      "source": [
        "score = model.evaluate(valid_set, valid_set_labels, verbose=0)\n",
        "print(\"Test loss:\", score[0])\n",
        "print(\"Test accuracy:\", score[1])"
      ],
      "execution_count": 97,
      "outputs": [
        {
          "output_type": "stream",
          "text": [
            "Test loss: 0.3436737060546875\n",
            "Test accuracy: 0.9430952668190002\n"
          ],
          "name": "stdout"
        }
      ]
    },
    {
      "cell_type": "code",
      "metadata": {
        "id": "LDHO2EKQ8Gar",
        "colab_type": "code",
        "colab": {}
      },
      "source": [
        ""
      ],
      "execution_count": 0,
      "outputs": []
    }
  ]
}